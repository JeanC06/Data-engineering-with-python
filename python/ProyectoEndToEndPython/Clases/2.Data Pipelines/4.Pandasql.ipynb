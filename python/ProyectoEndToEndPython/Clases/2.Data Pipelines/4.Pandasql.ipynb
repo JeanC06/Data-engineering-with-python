{
 "cells": [
  {
   "cell_type": "code",
   "execution_count": null,
   "id": "de1434d3-000a-484b-98dc-b42ddf4f9189",
   "metadata": {
    "tags": []
   },
   "outputs": [],
   "source": [
    "!pip install SQLAlchemy==1.4.47"
   ]
  },
  {
   "cell_type": "code",
   "execution_count": null,
   "id": "e028058e-20f2-4300-9f3d-ec95faa18f39",
   "metadata": {
    "tags": []
   },
   "outputs": [],
   "source": [
    "import pandas as pd\n",
    "from pandasql import sqldf\n",
    "\n",
    "sqldef_globals = lambda q: sqldf(q, globals())"
   ]
  },
  {
   "cell_type": "code",
   "execution_count": null,
   "id": "524101fb-5acb-469d-b6e9-fb6b6b9b42fe",
   "metadata": {
    "tags": []
   },
   "outputs": [],
   "source": [
    "df = pd.read_csv(\"Dummy_Sales_Data_v1.csv\", sep=\",\")\n",
    "df.head()"
   ]
  },
  {
   "cell_type": "code",
   "execution_count": null,
   "id": "77081c0a-45a9-4b46-ad4b-74f2d9fd3612",
   "metadata": {
    "tags": []
   },
   "outputs": [],
   "source": [
    "df.rename(columns={\"Shipping_Cost(USD)\":\"ShippingCost_USD\",\n",
    "                   \"UnitPrice(USD)\":\"UnitPrice_USD\",\n",
    "                   \"Delivery_Time(Days)\":\"Delivery_Time_Days\"},\n",
    "          inplace=True)\n",
    "df.info()"
   ]
  },
  {
   "cell_type": "code",
   "execution_count": null,
   "id": "46c53cea-8d55-4645-a76d-2157268dad5a",
   "metadata": {
    "tags": []
   },
   "outputs": [],
   "source": [
    "query = \"SELECT OrderID, Quantity, Sales_Manager, Status, Shipping_Address, ShippingCost_USD FROM df\"\n"
   ]
  },
  {
   "cell_type": "code",
   "execution_count": null,
   "id": "f787f39b-a260-4408-b776-30190cf9f8f5",
   "metadata": {
    "tags": []
   },
   "outputs": [],
   "source": [
    "df_orders = sqldef_globals(query)\n",
    "df_orders.head()"
   ]
  },
  {
   "cell_type": "code",
   "execution_count": null,
   "id": "63104908-f03c-43ac-b77d-2abf0e058c1e",
   "metadata": {
    "tags": []
   },
   "outputs": [],
   "source": [
    "query = \"SELECT OrderID,\\\n",
    "        Quantity, \\\n",
    "        Product_Code, \\\n",
    "        Product_Category, \\\n",
    "        UnitPrice_USD \\\n",
    "        FROM df\"\n",
    "df_products = sqldef_globals(query)\n",
    "df_products.head()"
   ]
  },
  {
   "cell_type": "code",
   "execution_count": null,
   "id": "7aff6932-5e4b-4338-abaa-a4fe332209d9",
   "metadata": {
    "tags": []
   },
   "outputs": [],
   "source": [
    "query = \"SELECT * \\\n",
    "        FROM df_orders \\\n",
    "        WHERE Shipping_Address = 'Kenya'\"\n",
    "df_kenya = sqldef_globals(query)\n",
    "df_kenya.head()"
   ]
  },
  {
   "cell_type": "code",
   "execution_count": null,
   "id": "bc3b5540-e8bb-4b06-a27f-f51178108ca6",
   "metadata": {
    "tags": []
   },
   "outputs": [],
   "source": [
    "query = \"SELECT * \\\n",
    "        FROM df_orders \\\n",
    "        WHERE Shipping_Address = 'Kenya' \\\n",
    "        AND Quantity < 40 \\\n",
    "        AND Status IN ('Shipped', 'Delivered')\"\n",
    "df_kenya = sqldef_globals(query)\n",
    "df_kenya.head()"
   ]
  },
  {
   "cell_type": "code",
   "execution_count": null,
   "id": "d2b35443-dcca-4158-8e00-2b9747ec290d",
   "metadata": {
    "tags": []
   },
   "outputs": [],
   "source": [
    "query = \"SELECT Shipping_Address, \\\n",
    "        COUNT(OrderID) AS Orders \\\n",
    "        FROM df_orders \\\n",
    "        GROUP BY Shipping_Address\"\n",
    "df_group = sqldef_globals(query)\n",
    "df_group.head(10)"
   ]
  },
  {
   "cell_type": "code",
   "execution_count": null,
   "id": "9184f4ba-7129-48e7-88aa-da9018ea9051",
   "metadata": {
    "tags": []
   },
   "outputs": [],
   "source": [
    "df_grouped = df_orders.groupby(\"Shipping_Address\")\n",
    "df_grouped = df_grouped[\"OrderID\"].count()\n",
    "df_grouped = pd.DataFrame(df_grouped)\n",
    "df_grouped"
   ]
  },
  {
   "cell_type": "code",
   "execution_count": null,
   "id": "8eb7c9c8-ab69-49a6-9309-2b6d7cc0c2fe",
   "metadata": {
    "tags": []
   },
   "outputs": [],
   "source": [
    "df_grouped = df_orders.groupby(\"Shipping_Address\")\n",
    "df_grouped = df_grouped[\"OrderID\"].count()\n",
    "df_grouped = pd.DataFrame(df_grouped)\n",
    "df_grouped.reset_index(inplace=True)\n",
    "df_grouped.rename(columns={\"OrderID\":\"Orders\"}, inplace=True)"
   ]
  },
  {
   "cell_type": "code",
   "execution_count": null,
   "id": "34a8f2f0-3bce-41fc-b752-ce5fa4a50ccb",
   "metadata": {
    "tags": []
   },
   "outputs": [],
   "source": [
    "df_grouped"
   ]
  },
  {
   "cell_type": "code",
   "execution_count": null,
   "id": "ef60a1a4-23b0-4363-8438-33b0ea36c1c3",
   "metadata": {
    "tags": []
   },
   "outputs": [],
   "source": [
    "query = \"SELECT Shipping_Address, \\\n",
    "        COUNT(OrderID) AS Orders \\\n",
    "        FROM df_orders \\\n",
    "        GROUP BY Shipping_Address \\\n",
    "        ORDER BY Orders\"\n",
    "df_group = sqldf(query)\n",
    "df_group"
   ]
  },
  {
   "cell_type": "code",
   "execution_count": null,
   "id": "2d523be5-2e9b-44e3-821c-6c9411261a42",
   "metadata": {
    "tags": []
   },
   "outputs": [],
   "source": [
    "query = \"SELECT T1.OrderID, \\\n",
    "        T1.Shipping_Address, \\\n",
    "        T2.Product_Category \\\n",
    "        FROM df_orders T1\\\n",
    "        INNER JOIN df_products T2\\\n",
    "        ON T1.OrderID = T2.OrderID\"\n",
    "df_combined = sqldf(query)\n",
    "df_combined.head()"
   ]
  },
  {
   "cell_type": "code",
   "execution_count": null,
   "id": "2b2e2408-de50-4692-9d14-4c3fd636661d",
   "metadata": {},
   "outputs": [],
   "source": []
  }
 ],
 "metadata": {
  "kernelspec": {
   "display_name": "Python 3 (ipykernel)",
   "language": "python",
   "name": "python3"
  },
  "language_info": {
   "codemirror_mode": {
    "name": "ipython",
    "version": 3
   },
   "file_extension": ".py",
   "mimetype": "text/x-python",
   "name": "python",
   "nbconvert_exporter": "python",
   "pygments_lexer": "ipython3",
   "version": "3.9.16"
  }
 },
 "nbformat": 4,
 "nbformat_minor": 5
}
