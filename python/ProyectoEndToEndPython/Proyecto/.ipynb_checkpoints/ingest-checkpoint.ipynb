{
 "cells": [
  {
   "cell_type": "code",
   "execution_count": 1,
   "id": "9b0efc4e-00d6-493e-9670-56ee08147aa6",
   "metadata": {},
   "outputs": [],
   "source": [
    "from process.Extract import Extract\n",
    "from process.Transform import Transform\n",
    "from process.Load import Load\n",
    "#import pandas as pd\n",
    "\n",
    "\n",
    "extract = Extract()\n",
    "transform = Transform()\n",
    "load = Load()"
   ]
  },
  {
   "cell_type": "code",
   "execution_count": 2,
   "id": "914a7747-97b8-4b3c-a307-b2a96d32acfc",
   "metadata": {},
   "outputs": [],
   "source": [
    "categories_df_db = extract.read_mysql(\"categories\", 'retail_db')\n",
    "customers_df_db = extract.read_mysql(\"customers\", 'retail_db')\n",
    "departments_df_db = extract.read_mysql(\"departments\", 'retail_db')\n",
    "order_items_df_db = extract.read_mysql(\"order_items\", 'retail_db')\n",
    "orders_df_db = extract.read_mysql(\"orders\", 'retail_db')\n",
    "products_df_db = extract.read_mysql(\"products\", 'retail_db')"
   ]
  },
  {
   "cell_type": "code",
   "execution_count": 3,
   "id": "e4b752b0-02ae-4e6f-9a8c-19ca0b5858ce",
   "metadata": {
    "scrolled": true
   },
   "outputs": [
    {
     "data": {
      "text/html": [
       "<div>\n",
       "<style scoped>\n",
       "    .dataframe tbody tr th:only-of-type {\n",
       "        vertical-align: middle;\n",
       "    }\n",
       "\n",
       "    .dataframe tbody tr th {\n",
       "        vertical-align: top;\n",
       "    }\n",
       "\n",
       "    .dataframe thead th {\n",
       "        text-align: right;\n",
       "    }\n",
       "</style>\n",
       "<table border=\"1\" class=\"dataframe\">\n",
       "  <thead>\n",
       "    <tr style=\"text-align: right;\">\n",
       "      <th></th>\n",
       "      <th>order_item_id</th>\n",
       "      <th>order_item_order_id</th>\n",
       "      <th>order_item_product_id</th>\n",
       "      <th>order_item_quantity</th>\n",
       "      <th>order_item_subtotal</th>\n",
       "      <th>order_item_product_price</th>\n",
       "    </tr>\n",
       "  </thead>\n",
       "  <tbody>\n",
       "    <tr>\n",
       "      <th>0</th>\n",
       "      <td>1</td>\n",
       "      <td>1</td>\n",
       "      <td>957</td>\n",
       "      <td>1</td>\n",
       "      <td>299.98</td>\n",
       "      <td>299.98</td>\n",
       "    </tr>\n",
       "    <tr>\n",
       "      <th>1</th>\n",
       "      <td>2</td>\n",
       "      <td>2</td>\n",
       "      <td>1073</td>\n",
       "      <td>1</td>\n",
       "      <td>199.99</td>\n",
       "      <td>199.99</td>\n",
       "    </tr>\n",
       "    <tr>\n",
       "      <th>2</th>\n",
       "      <td>3</td>\n",
       "      <td>2</td>\n",
       "      <td>502</td>\n",
       "      <td>5</td>\n",
       "      <td>250.00</td>\n",
       "      <td>50.00</td>\n",
       "    </tr>\n",
       "    <tr>\n",
       "      <th>3</th>\n",
       "      <td>4</td>\n",
       "      <td>2</td>\n",
       "      <td>403</td>\n",
       "      <td>1</td>\n",
       "      <td>129.99</td>\n",
       "      <td>129.99</td>\n",
       "    </tr>\n",
       "    <tr>\n",
       "      <th>4</th>\n",
       "      <td>5</td>\n",
       "      <td>4</td>\n",
       "      <td>897</td>\n",
       "      <td>2</td>\n",
       "      <td>49.98</td>\n",
       "      <td>24.99</td>\n",
       "    </tr>\n",
       "  </tbody>\n",
       "</table>\n",
       "</div>"
      ],
      "text/plain": [
       "   order_item_id  order_item_order_id  order_item_product_id  \\\n",
       "0              1                    1                    957   \n",
       "1              2                    2                   1073   \n",
       "2              3                    2                    502   \n",
       "3              4                    2                    403   \n",
       "4              5                    4                    897   \n",
       "\n",
       "   order_item_quantity  order_item_subtotal  order_item_product_price  \n",
       "0                    1               299.98                    299.98  \n",
       "1                    1               199.99                    199.99  \n",
       "2                    5               250.00                     50.00  \n",
       "3                    1               129.99                    129.99  \n",
       "4                    2                49.98                     24.99  "
      ]
     },
     "execution_count": 3,
     "metadata": {},
     "output_type": "execute_result"
    }
   ],
   "source": [
    "order_items_df_db.head()"
   ]
  },
  {
   "cell_type": "code",
   "execution_count": 6,
   "id": "198e336b-a5ef-4738-9250-68be8ffdc67f",
   "metadata": {},
   "outputs": [],
   "source": [
    "load.load_to_cloud_storage(categories_df_db,\"jeanproyecto\",\"landing/categories\")\n",
    "load.load_to_cloud_storage(customers_df_db,\"jeanproyecto\",\"landing/customers\")\n",
    "load.load_to_cloud_storage(departments_df_db,\"jeanproyecto\",\"landing/departments\")\n",
    "load.load_to_cloud_storage(order_items_df_db,\"jeanproyecto\",\"landing/order_items\")\n",
    "load.load_to_cloud_storage(orders_df_db,\"jeanproyecto\",\"landing/orders\")\n",
    "load.load_to_cloud_storage(products_df_db,\"jeanproyecto\",\"landing/products\")"
   ]
  },
  {
   "cell_type": "code",
   "execution_count": 7,
   "id": "2e4d0730-88da-4a47-bbbe-2483dc1fd326",
   "metadata": {},
   "outputs": [],
   "source": [
    "customers_df = extract.read_cloud_storage(\"jeanproyecto\",\"landing/customers\")\n",
    "categories_df = extract.read_cloud_storage(\"jeanproyecto\",\"landing/categories\")\n",
    "departments_df = extract.read_cloud_storage(\"jeanproyecto\",\"landing/departments\")\n",
    "order_items_df = extract.read_cloud_storage(\"jeanproyecto\",\"landing/order_items\")\n",
    "orders_df = extract.read_cloud_storage(\"jeanproyecto\",\"landing/orders\")\n",
    "products_df = extract.read_cloud_storage(\"jeanproyecto\",\"landing/products\")"
   ]
  },
  {
   "cell_type": "code",
   "execution_count": 8,
   "id": "a102cf48-c8dd-4b7f-bb39-f1023ce1181a",
   "metadata": {},
   "outputs": [],
   "source": [
    "a=transform.prod_total_sales(customers_df, orders_df, order_items_df, products_df, categories_df, departments_df)"
   ]
  },
  {
   "cell_type": "code",
   "execution_count": 9,
   "id": "c287d82a-b881-4c97-8896-2c59779c2566",
   "metadata": {},
   "outputs": [
    {
     "data": {
      "text/html": [
       "<div>\n",
       "<style scoped>\n",
       "    .dataframe tbody tr th:only-of-type {\n",
       "        vertical-align: middle;\n",
       "    }\n",
       "\n",
       "    .dataframe tbody tr th {\n",
       "        vertical-align: top;\n",
       "    }\n",
       "\n",
       "    .dataframe thead th {\n",
       "        text-align: right;\n",
       "    }\n",
       "</style>\n",
       "<table border=\"1\" class=\"dataframe\">\n",
       "  <thead>\n",
       "    <tr style=\"text-align: right;\">\n",
       "      <th></th>\n",
       "      <th>department_name</th>\n",
       "      <th>category_name</th>\n",
       "      <th>product_name</th>\n",
       "      <th>total_sales</th>\n",
       "    </tr>\n",
       "  </thead>\n",
       "  <tbody>\n",
       "    <tr>\n",
       "      <th>0</th>\n",
       "      <td>Fan Shop</td>\n",
       "      <td>Fishing</td>\n",
       "      <td>Field &amp; Stream Sportsman 16 Gun Fire Safe</td>\n",
       "      <td>6.795260e+06</td>\n",
       "    </tr>\n",
       "    <tr>\n",
       "      <th>1</th>\n",
       "      <td>Apparel</td>\n",
       "      <td>Cleats</td>\n",
       "      <td>Perfect Fitness Perfect Rip Deck</td>\n",
       "      <td>4.335357e+06</td>\n",
       "    </tr>\n",
       "    <tr>\n",
       "      <th>2</th>\n",
       "      <td>Fan Shop</td>\n",
       "      <td>Camping &amp; Hiking</td>\n",
       "      <td>Diamondback Women's Serene Classic Comfort Bi</td>\n",
       "      <td>4.038331e+06</td>\n",
       "    </tr>\n",
       "    <tr>\n",
       "      <th>3</th>\n",
       "      <td>Footwear</td>\n",
       "      <td>Cardio Equipment</td>\n",
       "      <td>Nike Men's Free 5.0+ Running Shoe</td>\n",
       "      <td>3.586941e+06</td>\n",
       "    </tr>\n",
       "    <tr>\n",
       "      <th>4</th>\n",
       "      <td>Golf</td>\n",
       "      <td>Women's Apparel</td>\n",
       "      <td>Nike Men's Dri-FIT Victory Golf Polo</td>\n",
       "      <td>3.082050e+06</td>\n",
       "    </tr>\n",
       "  </tbody>\n",
       "</table>\n",
       "</div>"
      ],
      "text/plain": [
       "  department_name     category_name  \\\n",
       "0        Fan Shop           Fishing   \n",
       "1         Apparel            Cleats   \n",
       "2        Fan Shop  Camping & Hiking   \n",
       "3        Footwear  Cardio Equipment   \n",
       "4            Golf   Women's Apparel   \n",
       "\n",
       "                                    product_name   total_sales  \n",
       "0      Field & Stream Sportsman 16 Gun Fire Safe  6.795260e+06  \n",
       "1               Perfect Fitness Perfect Rip Deck  4.335357e+06  \n",
       "2  Diamondback Women's Serene Classic Comfort Bi  4.038331e+06  \n",
       "3              Nike Men's Free 5.0+ Running Shoe  3.586941e+06  \n",
       "4           Nike Men's Dri-FIT Victory Golf Polo  3.082050e+06  "
      ]
     },
     "execution_count": 9,
     "metadata": {},
     "output_type": "execute_result"
    }
   ],
   "source": [
    "a.head()"
   ]
  },
  {
   "cell_type": "code",
   "execution_count": 10,
   "id": "d8434f8e-2326-4029-9b10-d5a07a668ba3",
   "metadata": {},
   "outputs": [],
   "source": [
    "b=transform.customer_total_s(customers_df, orders_df, order_items_df)"
   ]
  },
  {
   "cell_type": "code",
   "execution_count": 11,
   "id": "e3190707-4ff6-4062-91f7-0dc6ee758773",
   "metadata": {},
   "outputs": [
    {
     "data": {
      "text/html": [
       "<div>\n",
       "<style scoped>\n",
       "    .dataframe tbody tr th:only-of-type {\n",
       "        vertical-align: middle;\n",
       "    }\n",
       "\n",
       "    .dataframe tbody tr th {\n",
       "        vertical-align: top;\n",
       "    }\n",
       "\n",
       "    .dataframe thead th {\n",
       "        text-align: right;\n",
       "    }\n",
       "</style>\n",
       "<table border=\"1\" class=\"dataframe\">\n",
       "  <thead>\n",
       "    <tr style=\"text-align: right;\">\n",
       "      <th></th>\n",
       "      <th>customer_id</th>\n",
       "      <th>customer_fname</th>\n",
       "      <th>customer_lname</th>\n",
       "      <th>total_orders</th>\n",
       "      <th>total_sales</th>\n",
       "    </tr>\n",
       "  </thead>\n",
       "  <tbody>\n",
       "    <tr>\n",
       "      <th>0</th>\n",
       "      <td>9337</td>\n",
       "      <td>Mary</td>\n",
       "      <td>Smith</td>\n",
       "      <td>33</td>\n",
       "      <td>6585.33</td>\n",
       "    </tr>\n",
       "    <tr>\n",
       "      <th>1</th>\n",
       "      <td>3710</td>\n",
       "      <td>Ashley</td>\n",
       "      <td>Smith</td>\n",
       "      <td>28</td>\n",
       "      <td>6169.40</td>\n",
       "    </tr>\n",
       "    <tr>\n",
       "      <th>2</th>\n",
       "      <td>10744</td>\n",
       "      <td>Samantha</td>\n",
       "      <td>Smith</td>\n",
       "      <td>19</td>\n",
       "      <td>5799.50</td>\n",
       "    </tr>\n",
       "    <tr>\n",
       "      <th>3</th>\n",
       "      <td>749</td>\n",
       "      <td>Jesse</td>\n",
       "      <td>Matthews</td>\n",
       "      <td>28</td>\n",
       "      <td>5759.54</td>\n",
       "    </tr>\n",
       "    <tr>\n",
       "      <th>4</th>\n",
       "      <td>5411</td>\n",
       "      <td>Robert</td>\n",
       "      <td>Crane</td>\n",
       "      <td>21</td>\n",
       "      <td>5174.56</td>\n",
       "    </tr>\n",
       "  </tbody>\n",
       "</table>\n",
       "</div>"
      ],
      "text/plain": [
       "   customer_id customer_fname customer_lname  total_orders  total_sales\n",
       "0         9337           Mary          Smith            33      6585.33\n",
       "1         3710         Ashley          Smith            28      6169.40\n",
       "2        10744       Samantha          Smith            19      5799.50\n",
       "3          749          Jesse       Matthews            28      5759.54\n",
       "4         5411         Robert          Crane            21      5174.56"
      ]
     },
     "execution_count": 11,
     "metadata": {},
     "output_type": "execute_result"
    }
   ],
   "source": [
    "b.head()"
   ]
  },
  {
   "cell_type": "code",
   "execution_count": 13,
   "id": "88ac8c87-b51e-425f-9a69-c0720a57f323",
   "metadata": {},
   "outputs": [],
   "source": [
    "load.load_to_cloud_storage(a,\"jeanproyecto\",\"gold/product_tot_sales\")\n",
    "load.load_to_cloud_storage(b,\"jeanproyecto\",\"gold/customer_total_s\")"
   ]
  },
  {
   "cell_type": "code",
   "execution_count": 3,
   "id": "8c85b8f9-66ad-48e5-8902-6e0ad373bd43",
   "metadata": {},
   "outputs": [
    {
     "ename": "NameError",
     "evalue": "name 'extract' is not defined",
     "output_type": "error",
     "traceback": [
      "\u001b[0;31m---------------------------------------------------------------------------\u001b[0m",
      "\u001b[0;31mNameError\u001b[0m                                 Traceback (most recent call last)",
      "Cell \u001b[0;32mIn[3], line 1\u001b[0m\n\u001b[0;32m----> 1\u001b[0m product_to \u001b[38;5;241m=\u001b[39m \u001b[43mextract\u001b[49m\u001b[38;5;241m.\u001b[39mread_cloud_storage(\u001b[38;5;124m\"\u001b[39m\u001b[38;5;124mjeanproyecto\u001b[39m\u001b[38;5;124m\"\u001b[39m,\u001b[38;5;124m\"\u001b[39m\u001b[38;5;124mgold/product_tot_sales\u001b[39m\u001b[38;5;124m\"\u001b[39m)\n",
      "\u001b[0;31mNameError\u001b[0m: name 'extract' is not defined"
     ]
    }
   ],
   "source": [
    "product_tot = extract.read_cloud_storage(\"jeanproyecto\",\"gold/product_tot_sales\")\n",
    "customer_tot = extract.read_cloud_storage(\"jeanproyecto\",\"gold/customer_total_s\")"
   ]
  },
  {
   "cell_type": "code",
   "execution_count": null,
   "id": "26574fc3-0d81-4a42-aab0-74c508ba9a9b",
   "metadata": {},
   "outputs": [],
   "source": []
  }
 ],
 "metadata": {
  "kernelspec": {
   "display_name": "Python 3 (ipykernel)",
   "language": "python",
   "name": "python3"
  },
  "language_info": {
   "codemirror_mode": {
    "name": "ipython",
    "version": 3
   },
   "file_extension": ".py",
   "mimetype": "text/x-python",
   "name": "python",
   "nbconvert_exporter": "python",
   "pygments_lexer": "ipython3",
   "version": "3.9.16"
  }
 },
 "nbformat": 4,
 "nbformat_minor": 5
}
